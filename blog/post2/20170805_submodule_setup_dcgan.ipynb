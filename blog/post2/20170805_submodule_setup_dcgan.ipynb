{
 "cells": [
  {
   "cell_type": "code",
   "execution_count": 2,
   "metadata": {
    "collapsed": false
   },
   "outputs": [],
   "source": [
    "!git checkout -- DCGAN-tensorflow"
   ]
  },
  {
   "cell_type": "code",
   "execution_count": 3,
   "metadata": {
    "collapsed": false
   },
   "outputs": [
    {
     "name": "stdout",
     "output_type": "stream",
     "text": [
      "On branch master\r\n",
      "Changes not staged for commit:\r\n",
      "  (use \"git add <file>...\" to update what will be committed)\r\n",
      "  (use \"git checkout -- <file>...\" to discard changes in working directory)\r\n",
      "\r\n",
      "\t\u001b[31mmodified:   Untitled Notebook.ipynb\u001b[m\r\n",
      "\r\n",
      "no changes added to commit (use \"git add\" and/or \"git commit -a\")\r\n"
     ]
    }
   ],
   "source": [
    "!git status"
   ]
  },
  {
   "cell_type": "code",
   "execution_count": 7,
   "metadata": {
    "collapsed": false
   },
   "outputs": [
    {
     "name": "stdout",
     "output_type": "stream",
     "text": [
      "Cleared directory 'DCGAN-tensorflow'\r\n",
      "Submodule 'DCGAN-tensorflow' (git@github.com:andrewlook/DCGAN-tensorflow.git) unregistered for path 'DCGAN-tensorflow'\r\n"
     ]
    }
   ],
   "source": [
    "!git submodule deinit DCGAN-tensorflow"
   ]
  },
  {
   "cell_type": "code",
   "execution_count": 13,
   "metadata": {
    "collapsed": false
   },
   "outputs": [
    {
     "name": "stdout",
     "output_type": "stream",
     "text": [
      "rm 'DCGAN-tensorflow'\r\n"
     ]
    }
   ],
   "source": [
    "!git rm DCGAN-tensorflow"
   ]
  },
  {
   "cell_type": "code",
   "execution_count": 14,
   "metadata": {
    "collapsed": false
   },
   "outputs": [
    {
     "name": "stdout",
     "output_type": "stream",
     "text": [
      "On branch master\r\n",
      "Changes to be committed:\r\n",
      "  (use \"git reset HEAD <file>...\" to unstage)\r\n",
      "\r\n",
      "\t\u001b[32mdeleted:    DCGAN-tensorflow\u001b[m\r\n",
      "\r\n",
      "Changes not staged for commit:\r\n",
      "  (use \"git add/rm <file>...\" to update what will be committed)\r\n",
      "  (use \"git checkout -- <file>...\" to discard changes in working directory)\r\n",
      "\r\n",
      "\t\u001b[31mdeleted:    .gitmodules\u001b[m\r\n",
      "\t\u001b[31mmodified:   Untitled Notebook.ipynb\u001b[m\r\n",
      "\r\n"
     ]
    }
   ],
   "source": [
    "!git status"
   ]
  },
  {
   "cell_type": "code",
   "execution_count": 15,
   "metadata": {
    "collapsed": true
   },
   "outputs": [],
   "source": [
    "!git add ."
   ]
  },
  {
   "cell_type": "code",
   "execution_count": 16,
   "metadata": {
    "collapsed": false
   },
   "outputs": [
    {
     "name": "stdout",
     "output_type": "stream",
     "text": [
      "[master 1f7f506] removing SSH submodule\r\n",
      " 3 files changed, 101 insertions(+), 4 deletions(-)\r\n",
      " delete mode 100644 .gitmodules\r\n",
      " delete mode 160000 DCGAN-tensorflow\r\n"
     ]
    }
   ],
   "source": [
    "!git commit -m \"removing SSH submodule\""
   ]
  },
  {
   "cell_type": "code",
   "execution_count": 17,
   "metadata": {
    "collapsed": false
   },
   "outputs": [
    {
     "name": "stdout",
     "output_type": "stream",
     "text": [
      "Cloning into 'DCGAN-tensorflow'...\n",
      "remote: Counting objects: 986, done.\u001b[K\n",
      "remote: Total 986 (delta 0), reused 0 (delta 0), pack-reused 986\u001b[K\n",
      "Receiving objects: 100% (986/986), 77.93 MiB | 34.51 MiB/s, done.\n",
      "Resolving deltas: 100% (554/554), done.\n",
      "Checking connectivity... done.\n"
     ]
    }
   ],
   "source": [
    "!git submodule add https://github.com/andrewlook/DCGAN-tensorflow.git"
   ]
  },
  {
   "cell_type": "code",
   "execution_count": 18,
   "metadata": {
    "collapsed": false
   },
   "outputs": [],
   "source": [
    "!git submodule update --init\n"
   ]
  },
  {
   "cell_type": "code",
   "execution_count": 19,
   "metadata": {
    "collapsed": false
   },
   "outputs": [
    {
     "name": "stdout",
     "output_type": "stream",
     "text": [
      "DCGAN.png  README.md  average.png  main.py   ops.py    web\r\n",
      "LICENSE    assets     download.py  model.py  utils.py\r\n"
     ]
    }
   ],
   "source": [
    "!ls DCGAN-tensorflow/"
   ]
  },
  {
   "cell_type": "code",
   "execution_count": null,
   "metadata": {
    "collapsed": true
   },
   "outputs": [],
   "source": [
    "!whoami"
   ]
  },
  {
   "cell_type": "code",
   "execution_count": 20,
   "metadata": {
    "collapsed": false
   },
   "outputs": [
    {
     "name": "stdout",
     "output_type": "stream",
     "text": [
      "Cloning into 'CycleGAN-tensorflow'...\n",
      "remote: Counting objects: 526, done.\u001b[K\n",
      "remote: Total 526 (delta 0), reused 0 (delta 0), pack-reused 526\u001b[K\n",
      "Receiving objects: 100% (526/526), 4.16 MiB | 0 bytes/s, done.\n",
      "Resolving deltas: 100% (321/321), done.\n",
      "Checking connectivity... done.\n"
     ]
    }
   ],
   "source": [
    "!git submodule add https://github.com/andrewlook/CycleGAN-tensorflow.git"
   ]
  },
  {
   "cell_type": "code",
   "execution_count": 21,
   "metadata": {
    "collapsed": true
   },
   "outputs": [],
   "source": [
    "!git submodule update --init"
   ]
  },
  {
   "cell_type": "code",
   "execution_count": null,
   "metadata": {
    "collapsed": true
   },
   "outputs": [],
   "source": []
  }
 ],
 "metadata": {
  "kernelspec": {
   "display_name": "Python 2",
   "language": "python",
   "name": "python2"
  },
  "language_info": {
   "codemirror_mode": {
    "name": "ipython",
    "version": 2
   },
   "file_extension": ".py",
   "mimetype": "text/x-python",
   "name": "python",
   "nbconvert_exporter": "python",
   "pygments_lexer": "ipython2",
   "version": "2.7.9"
  }
 },
 "nbformat": 4,
 "nbformat_minor": 2
}
